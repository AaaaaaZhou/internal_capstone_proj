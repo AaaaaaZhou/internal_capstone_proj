{
 "cells": [
  {
   "cell_type": "code",
   "execution_count": 1,
   "id": "6dc38846",
   "metadata": {},
   "outputs": [],
   "source": [
    "import json, os, sys, re\n",
    "import numpy as np\n",
    "import pandas as pd\n",
    "\n",
    "import matplotlib.pyplot as plt\n",
    "\n",
    "from time import time\n",
    "from tqdm import tqdm\n",
    "\n",
    "from gem.utils import graph_util, plot_util\n",
    "from gem.evaluation import visualize_embedding as viz\n",
    "from gem.evaluation import evaluate_graph_reconstruction as GR\n",
    "\n",
    "from gem.embedding.gf       import GraphFactorization     as GF\n",
    "from gem.embedding.hope     import HOPE\n",
    "from gem.embedding.lap      import LaplacianEigenmaps     as LAP\n",
    "from gem.embedding.lle      import LocallyLinearEmbedding as LLE\n",
    "from gem.embedding.node2vec import node2vec               as N2V"
   ]
  },
  {
   "cell_type": "code",
   "execution_count": 2,
   "id": "170f4d50",
   "metadata": {},
   "outputs": [],
   "source": [
    "model = GF(d=32, max_iter=100000, eta=1*10**-4, regu=1.0)\n",
    "# model = HOPE(d=32, beta=0.01)\n",
    "# model = LAP(d=32)\n",
    "# model = LLE(d=32)\n",
    "# model = N2V(d=32, max_iter=1000, walk_len=80, num_walks=10, con_size=10, ret_p=1, inout_p=1)"
   ]
  },
  {
   "cell_type": "code",
   "execution_count": 3,
   "id": "0570abbd",
   "metadata": {},
   "outputs": [
    {
     "name": "stderr",
     "output_type": "stream",
     "text": [
      "100%|███████████████████████████████████████████████████████████████████████████████| 159/159 [00:00<00:00, 268.83it/s]\n"
     ]
    },
    {
     "name": "stdout",
     "output_type": "stream",
     "text": [
      "811 46\n"
     ]
    },
    {
     "name": "stderr",
     "output_type": "stream",
     "text": [
      "100%|██████████████████████████████████████████████████████████████████████████████████| 46/46 [00:01<00:00, 33.50it/s]\n"
     ]
    },
    {
     "name": "stdout",
     "output_type": "stream",
     "text": [
      "Num nodes: 811, num edges: 276085\n"
     ]
    }
   ],
   "source": [
    "# build graph\n",
    "write_to_path = \"ability_graph.txt\"\n",
    "build = True\n",
    "\n",
    "if build:\n",
    "    record = []\n",
    "    root = \"champ/en/\"\n",
    "    for f in tqdm(os.listdir(root)):\n",
    "        df = pd.read_csv(root + f)\n",
    "        for r in range(df.shape[0]):\n",
    "            # print(df.iloc[r].tolist())\n",
    "            vec = df.iloc[r].tolist()[2:]\n",
    "            record.append(vec)\n",
    "    record = np.array(record)\n",
    "    n_abi, n_feature = record.shape\n",
    "    print(n_abi, n_feature)\n",
    "    np.save(\"all_champ_abilities.npy\", record)\n",
    "    \n",
    "    with open(write_to_path, \"w\") as fout:\n",
    "        for f in tqdm(range(n_feature)):\n",
    "            arr = record[:, f]\n",
    "            non = np.nonzero(arr)[0]\n",
    "            L = len(non)\n",
    "            \n",
    "            for i in range(L - 1):\n",
    "                for j in range(i + 1, L):\n",
    "                    edge = str(non[i]) + \"\\t\" + str(non[j]) + \"\\n\"\n",
    "                    fout.write(edge)\n",
    "graph = graph_util.loadGraphFromEdgeListTxt(write_to_path, directed=False)\n",
    "print(\"Num nodes: %d, num edges: %d\" % (graph.number_of_nodes(), graph.number_of_edges()))"
   ]
  },
  {
   "cell_type": "code",
   "execution_count": 4,
   "id": "4727ea72",
   "metadata": {},
   "outputs": [
    {
     "ename": "AttributeError",
     "evalue": "'GraphFactorization' object has no attribute '_data_set'",
     "output_type": "error",
     "traceback": [
      "\u001b[1;31m---------------------------------------------------------------------------\u001b[0m",
      "\u001b[1;31mAttributeError\u001b[0m                            Traceback (most recent call last)",
      "\u001b[1;32m<ipython-input-4-82117e0e2014>\u001b[0m in \u001b[0;36m<module>\u001b[1;34m\u001b[0m\n\u001b[1;32m----> 1\u001b[1;33m \u001b[0mY\u001b[0m\u001b[1;33m,\u001b[0m \u001b[0mt\u001b[0m \u001b[1;33m=\u001b[0m \u001b[0mmodel\u001b[0m\u001b[1;33m.\u001b[0m\u001b[0mlearn_embedding\u001b[0m\u001b[1;33m(\u001b[0m\u001b[0mgraph\u001b[0m\u001b[1;33m=\u001b[0m\u001b[0mgraph\u001b[0m\u001b[1;33m,\u001b[0m \u001b[0medge_f\u001b[0m\u001b[1;33m=\u001b[0m\u001b[1;32mNone\u001b[0m\u001b[1;33m,\u001b[0m \u001b[0mis_weighted\u001b[0m\u001b[1;33m=\u001b[0m\u001b[1;32mTrue\u001b[0m\u001b[1;33m,\u001b[0m \u001b[0mno_python\u001b[0m\u001b[1;33m=\u001b[0m\u001b[1;32mTrue\u001b[0m\u001b[1;33m)\u001b[0m\u001b[1;33m\u001b[0m\u001b[1;33m\u001b[0m\u001b[0m\n\u001b[0m\u001b[0;32m      2\u001b[0m \u001b[1;33m\u001b[0m\u001b[0m\n\u001b[0;32m      3\u001b[0m \u001b[0mprint\u001b[0m\u001b[1;33m(\u001b[0m\u001b[0mtype\u001b[0m\u001b[1;33m(\u001b[0m\u001b[0mY\u001b[0m\u001b[1;33m)\u001b[0m\u001b[1;33m,\u001b[0m \u001b[0mY\u001b[0m\u001b[1;33m.\u001b[0m\u001b[0mshape\u001b[0m\u001b[1;33m)\u001b[0m\u001b[1;33m\u001b[0m\u001b[1;33m\u001b[0m\u001b[0m\n\u001b[0;32m      4\u001b[0m \u001b[0mprint\u001b[0m\u001b[1;33m(\u001b[0m\u001b[0mt\u001b[0m\u001b[1;33m)\u001b[0m\u001b[1;33m\u001b[0m\u001b[1;33m\u001b[0m\u001b[0m\n\u001b[0;32m      5\u001b[0m \u001b[1;33m\u001b[0m\u001b[0m\n",
      "\u001b[1;32m~\\AppData\\Roaming\\Python\\Python37\\site-packages\\gem\\embedding\\gf.py\u001b[0m in \u001b[0;36mlearn_embedding\u001b[1;34m(self, graph, edge_f, is_weighted, no_python)\u001b[0m\n\u001b[0;32m     99\u001b[0m             \u001b[1;32mif\u001b[0m \u001b[0medge_f\u001b[0m\u001b[1;33m:\u001b[0m\u001b[1;33m\u001b[0m\u001b[1;33m\u001b[0m\u001b[0m\n\u001b[0;32m    100\u001b[0m                 \u001b[0mgraph\u001b[0m \u001b[1;33m=\u001b[0m \u001b[0mgraph_util\u001b[0m\u001b[1;33m.\u001b[0m\u001b[0mloadGraphFromEdgeListTxt\u001b[0m\u001b[1;33m(\u001b[0m\u001b[0medge_f\u001b[0m\u001b[1;33m)\u001b[0m\u001b[1;33m\u001b[0m\u001b[1;33m\u001b[0m\u001b[0m\n\u001b[1;32m--> 101\u001b[1;33m             \u001b[0mgraphFileName\u001b[0m \u001b[1;33m=\u001b[0m \u001b[1;34m'gem/intermediate/%s_gf.graph'\u001b[0m \u001b[1;33m%\u001b[0m \u001b[0mself\u001b[0m\u001b[1;33m.\u001b[0m\u001b[0m_data_set\u001b[0m\u001b[1;33m\u001b[0m\u001b[1;33m\u001b[0m\u001b[0m\n\u001b[0m\u001b[0;32m    102\u001b[0m             \u001b[0membFileName\u001b[0m \u001b[1;33m=\u001b[0m \u001b[1;34m'gem/intermediate/%s_%d_gf.emb'\u001b[0m \u001b[1;33m%\u001b[0m \u001b[1;33m(\u001b[0m\u001b[0mself\u001b[0m\u001b[1;33m.\u001b[0m\u001b[0m_data_set\u001b[0m\u001b[1;33m,\u001b[0m \u001b[0mself\u001b[0m\u001b[1;33m.\u001b[0m\u001b[0m_d\u001b[0m\u001b[1;33m)\u001b[0m\u001b[1;33m\u001b[0m\u001b[1;33m\u001b[0m\u001b[0m\n\u001b[0;32m    103\u001b[0m             \u001b[1;31m# try:\u001b[0m\u001b[1;33m\u001b[0m\u001b[1;33m\u001b[0m\u001b[1;33m\u001b[0m\u001b[0m\n",
      "\u001b[1;31mAttributeError\u001b[0m: 'GraphFactorization' object has no attribute '_data_set'"
     ]
    }
   ],
   "source": [
    "Y, t = model.learn_embedding(graph=graph, edge_f=None, is_weighted=True, no_python=True)\n",
    "\n",
    "print(type(Y), Y.shape)\n",
    "print(t)\n",
    "\n",
    "np.save(\"embedding/ability_emb_gf_32d.npy\", Y)"
   ]
  }
 ],
 "metadata": {
  "kernelspec": {
   "display_name": "Python 3",
   "language": "python",
   "name": "python3"
  },
  "language_info": {
   "codemirror_mode": {
    "name": "ipython",
    "version": 3
   },
   "file_extension": ".py",
   "mimetype": "text/x-python",
   "name": "python",
   "nbconvert_exporter": "python",
   "pygments_lexer": "ipython3",
   "version": "3.7.8"
  }
 },
 "nbformat": 4,
 "nbformat_minor": 5
}
