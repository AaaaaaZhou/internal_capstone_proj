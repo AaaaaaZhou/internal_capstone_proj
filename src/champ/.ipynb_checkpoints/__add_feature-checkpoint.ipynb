{
 "cells": [
  {
   "cell_type": "code",
   "execution_count": 1,
   "id": "058ef612",
   "metadata": {},
   "outputs": [],
   "source": [
    "import os, json, re, time\n",
    "from urllib.request import urlopen\n",
    "from bs4 import BeautifulSoup as BS\n",
    "from tqdm import tqdm\n",
    "\n",
    "import pandas as pd"
   ]
  },
  {
   "cell_type": "code",
   "execution_count": 2,
   "id": "16190c87",
   "metadata": {},
   "outputs": [],
   "source": [
    "champs = \"https://leagueoflegends.fandom.com/wiki/List_of_champions\"\n",
    "page = urlopen(url=champs).read()\n",
    "\n",
    "soup = BS(page, \"html.parser\", from_encoding=\"utf-8\")"
   ]
  },
  {
   "cell_type": "code",
   "execution_count": 3,
   "id": "87ec5062",
   "metadata": {},
   "outputs": [
    {
     "name": "stdout",
     "output_type": "stream",
     "text": [
      "160\n"
     ]
    }
   ],
   "source": [
    "root = \"https://leagueoflegends.fandom.com\"\n",
    "base = \"https://leagueoflegends.fandom.com/wiki/%s/LoL\"\n",
    "\n",
    "table = soup.find(\"div\", class_=\"main-container\").find(\"div\", class_=\"resizable-container\").find(\"div\", class_=\"page has-right-rail\").find(\"div\", class_=\"page-content\").find(\"table\", style=\"width:100%; text-align:center;\")\n",
    "\n",
    "table = table.find(\"tbody\")\n",
    "heros = table.find_all(\"tr\")\n",
    "print(len(heros))"
   ]
  },
  {
   "cell_type": "code",
   "execution_count": 4,
   "id": "813c1faa",
   "metadata": {},
   "outputs": [
    {
     "name": "stdout",
     "output_type": "stream",
     "text": [
      "https://leagueoflegends.fandom.com/wiki/Nidalee/LoL\n"
     ]
    }
   ],
   "source": [
    "def get_url(tr):\n",
    "    data = tr.find_all(\"a\", href=re.compile(r\"/wiki/\"))[1]\n",
    "    url = data[\"href\"]\n",
    "    return root + url\n",
    "\n",
    "\n",
    "def get_name(tr):\n",
    "    data = tr.find_all(\"a\", href=re.compile(r\"/wiki/\"))[1]\n",
    "    url = data[\"href\"]\n",
    "    return url[6:-4] # .lower()\n",
    "\n",
    "nidalee = get_url(heros[83])\n",
    "print(nidalee)\n",
    "# get_name(heros[83])"
   ]
  },
  {
   "cell_type": "code",
   "execution_count": 5,
   "id": "cc52d84c",
   "metadata": {},
   "outputs": [
    {
     "name": "stdout",
     "output_type": "stream",
     "text": [
      "{'innate': [0, 0, 0, 0, 0, 0, 0, 0], 'q': [0, 1, 0, 1, 1, 0, 1, 0], 'w': [1, 1, 1, 0, 1, 1, 0, 0], 'e': [0, 1, 0, 0, 1, 0, 1, 0], 'r': [0, 1, 0, 0, 0, 0, 0, 0]}\n"
     ]
    }
   ],
   "source": [
    "no_ultimate = [\"Elise\", \"Jayce\", \"Karma\", \"Kog'maw\", \"Leblanc\", \"Nidalee\", \"Udyr\"]\n",
    "# links = list(map(get_url, heros))\n",
    "\n",
    "def get_champ_one_ability(div):\n",
    "    record = [0] * 8\n",
    "    \n",
    "    for ab in div:\n",
    "        text = ab.text\n",
    "        text = text.split(\"COOLDOWN:\")[-1]\n",
    "        text = \" \".join(text.split()).lower()\n",
    "        \n",
    "        if \"cooldown\" in text and \"reduce\" in text:\n",
    "            record[0] = 1\n",
    "        if \"active\" in text:\n",
    "            record[1] = 1\n",
    "        if \"passive\" in text:\n",
    "            record[2] = 1\n",
    "        if \"% ad\" in text or \"bonus ad\" in text:\n",
    "            record[3] = 1\n",
    "        if \"% ap\" in text or \"bonus ap\" in text:\n",
    "            record[4] = 1\n",
    "        if \"armor\" in text or \"magic resistance\" in text or \"maximum health\" in text:\n",
    "            record[5] = 1\n",
    "        if \"target's maximum health\" in text or \"target's current health\" in text or \"target's missing health\" in text:\n",
    "            record[6] = 1\n",
    "    return record\n",
    "\n",
    "\n",
    "def get_champ_all_ability(champ_url):\n",
    "    record = dict()\n",
    "    \n",
    "    abbs = [\"skill skill_innate\", \"skill skill_q\", \"skill skill_w\", \"skill skill_e\", \"skill skill_r\"] # div\n",
    "    champ_p = urlopen(url=champ_url).read()\n",
    "    champ_s = BS(champ_p, \"html.parser\", from_encoding=\"utf-8\")\n",
    "    \n",
    "    # tmp = champ_s.find_all(\"div\", class_=abbs[1])\n",
    "    # print(len(tmp))\n",
    "    \n",
    "    # tt = tmp[0].text\n",
    "    # print(\" \".join(tt.split()))\n",
    "    for abid in abbs:\n",
    "        # print(abid)\n",
    "        tmp = champ_s.find_all(\"div\", class_=abid)\n",
    "        val = get_champ_one_ability(tmp)\n",
    "        key = abid.split(\"_\")[1]\n",
    "        \n",
    "        record[key] = val\n",
    "    return record\n",
    "    \n",
    "\n",
    "print(get_champ_all_ability(nidalee))"
   ]
  },
  {
   "cell_type": "code",
   "execution_count": 7,
   "id": "7d2bff30",
   "metadata": {},
   "outputs": [
    {
     "name": "stderr",
     "output_type": "stream",
     "text": [
      "100%|██████████████████████████████████████████████████████████████████████████████████| 72/72 [01:27<00:00,  1.22s/it]\n"
     ]
    }
   ],
   "source": [
    "# read data and write to file\n",
    "def clean(champ_name):\n",
    "    champ_name = champ_name.replace(\"%27\", \"'\")\n",
    "    champ_name = champ_name.replace(\"%26\", \"&\")\n",
    "    return champ_name\n",
    "\n",
    "\n",
    "champ_names = list(map(get_name, heros))\n",
    "new_columns = [\"ability_id\", \"physical_dmg\", \"magic_dmg\", \"true_dmg\", \"AOE\", \"crowd_ctrl\", \"immobilize\", \"no_dash\", \"no_attack\", \"silent\", \"forced_displace\", \"forced_action\", \"interupt\", \"cripple\", \"disarm\", \"slow\", \"nearsight\", \"resistance\", \"dash\", \"terrain\", \"buff\", \"bonus_move_spd\", \"bonus_atk_spd\", \"bonus_range\", \"bonus_damage\", \"bonus_defense\", \"bonus_tenacity\", \"bonus_hp\", \"sheild\", \"immune_cc\", \"healing\", \"ghosting\", \"debuff\", \"vulnerable\", \"disarm\", \"cursed\", \"bleeding\", \"revealing\", \"special\"]\n",
    "for idx, champ in enumerate(tqdm(champ_names[1:])):\n",
    "    temp_url = base % (champ)\n",
    "    addition = get_champ_all_ability(temp_url)\n",
    "    \n",
    "    champ = clean(champ.lower())\n",
    "    champ_df = pd.read_csv(champ + \".csv\")\n",
    "    champ_df.columns = new_columns\n",
    "    nrows = len(champ_df.index)\n",
    "    if champ not in no_ultimate:\n",
    "        addition[\"r\"][7] = 1\n",
    "    \n",
    "    new_cols = [\"cooldown\", \"active\", \"passive\", \"ad_bonus\", \"ap_bonus\", \"defense_bonus\", \"beheading\", \"ultimate\"]\n",
    "    if nrows == 5:\n",
    "        for idx in range(8):\n",
    "            col = new_cols[idx]\n",
    "            val = [addition[\"innate\"][idx], addition[\"q\"][idx], addition[\"w\"][idx], addition[\"e\"][idx], addition[\"r\"][idx]]\n",
    "            champ_df[col] = val\n",
    "    elif nrows == 8:\n",
    "        for idx in range(8):\n",
    "            col = new_cols[idx]\n",
    "            val = [addition[\"innate\"][idx], addition[\"q\"][idx], addition[\"q\"][idx], addition[\"w\"][idx], addition[\"w\"][idx], addition[\"e\"][idx], addition[\"e\"][idx], addition[\"r\"][idx]]\n",
    "            champ_df[col] = val\n",
    "    elif nrows == 9:\n",
    "        for idx in range(8):\n",
    "            col = new_cols[idx]\n",
    "            val = [addition[\"innate\"][idx], addition[\"innate\"][idx], addition[\"q\"][idx], addition[\"q\"][idx], addition[\"w\"][idx], addition[\"w\"][idx], addition[\"e\"][idx], addition[\"e\"][idx], addition[\"r\"][idx]]\n",
    "            champ_df[col] = val\n",
    "    else:\n",
    "        print(champ, nrows)\n",
    "\n",
    "    # champ_df.reset_index(drop=True)\n",
    "    champ_df.to_csv(\"en/\" + champ + \".csv\")\n",
    "    \n",
    "    # print(champ, \"done.\")"
   ]
  },
  {
   "cell_type": "code",
   "execution_count": null,
   "id": "8532e428",
   "metadata": {},
   "outputs": [],
   "source": []
  }
 ],
 "metadata": {
  "kernelspec": {
   "display_name": "Python 3",
   "language": "python",
   "name": "python3"
  },
  "language_info": {
   "codemirror_mode": {
    "name": "ipython",
    "version": 3
   },
   "file_extension": ".py",
   "mimetype": "text/x-python",
   "name": "python",
   "nbconvert_exporter": "python",
   "pygments_lexer": "ipython3",
   "version": "3.7.8"
  }
 },
 "nbformat": 4,
 "nbformat_minor": 5
}
